{
 "metadata": {
  "name": "",
  "signature": "sha256:3cbabef3c7206ff99d0834f013de4d173cdbaf1782527aea9e4b6fc6fa6db7c3"
 },
 "nbformat": 3,
 "nbformat_minor": 0,
 "worksheets": [
  {
   "cells": [
    {
     "cell_type": "markdown",
     "metadata": {},
     "source": [
      "## Constraining Memory\n",
      "\n",
      "For this part of the tutorial, we want to find out what happens when we run out of memory and how to work around it. Normally you find this out by accident at the end of a long processing chain that takes minutes or hours to run. We really don't want to wait that long so let's boil this down. How can we run out of memory with our small-ish 1GB array?\n",
      "\n",
      "It turns out that Linux has a number of system calls that allow anyone, root or otherwise, to set resource limits on processes. As a regular user, we are allowed to limit the resources of our own processes at will. And Python gives us bindings to those system calls through the `resource` module."
     ]
    },
    {
     "cell_type": "code",
     "collapsed": false,
     "input": [
      "# Start with a few standard imports\n",
      "import numpy as np\n",
      "import os\n",
      "import resource"
     ],
     "language": "python",
     "metadata": {},
     "outputs": [],
     "prompt_number": 2
    },
    {
     "cell_type": "code",
     "collapsed": false,
     "input": [
      "pid = os.getpid()\n",
      "page_size = resource.getpagesize()\n",
      "pid, page_size"
     ],
     "language": "python",
     "metadata": {},
     "outputs": [
      {
       "metadata": {},
       "output_type": "pyout",
       "prompt_number": 3,
       "text": [
        "(10973, 4096)"
       ]
      }
     ],
     "prompt_number": 3
    },
    {
     "cell_type": "markdown",
     "metadata": {},
     "source": [
      "Here, we're going to set ourselves a \"soft\" and \"hard\" limit on the \"addressable space\" (AS). Addressable space consists of all of the data in RAM *and* the virtual memory on disk. But for this experiment, we don't to use virtual memory at all. That's OK, we'll set AS to 1 MB (hard limit of 2 MB), so we have to be *really* disciplined with our memory usage."
     ]
    },
    {
     "cell_type": "code",
     "collapsed": false,
     "input": [
      "resource.setrlimit(resource.RLIMIT_AS, (1024 * 1024, 2 * 1024 * 1024))"
     ],
     "language": "python",
     "metadata": {},
     "outputs": [],
     "prompt_number": 12
    },
    {
     "cell_type": "code",
     "collapsed": false,
     "input": [
      "shape = (256, 1024, 1024)\n",
      "x = np.empty(shape, dtype='float32')"
     ],
     "language": "python",
     "metadata": {},
     "outputs": [
      {
       "ename": "MemoryError",
       "evalue": "",
       "output_type": "pyerr",
       "traceback": [
        "\u001b[1;31m---------------------------------------------------------------------------\u001b[0m\n\u001b[1;31mMemoryError\u001b[0m                               Traceback (most recent call last)",
        "\u001b[1;32m<ipython-input-13-978fff85886b>\u001b[0m in \u001b[0;36m<module>\u001b[1;34m()\u001b[0m\n\u001b[0;32m      1\u001b[0m \u001b[0mshape\u001b[0m \u001b[1;33m=\u001b[0m \u001b[1;33m(\u001b[0m\u001b[1;36m256\u001b[0m\u001b[1;33m,\u001b[0m \u001b[1;36m1024\u001b[0m\u001b[1;33m,\u001b[0m \u001b[1;36m1024\u001b[0m\u001b[1;33m)\u001b[0m\u001b[1;33m\u001b[0m\u001b[0m\n\u001b[1;32m----> 2\u001b[1;33m \u001b[0mx\u001b[0m \u001b[1;33m=\u001b[0m \u001b[0mnp\u001b[0m\u001b[1;33m.\u001b[0m\u001b[0mempty\u001b[0m\u001b[1;33m(\u001b[0m\u001b[0mshape\u001b[0m\u001b[1;33m,\u001b[0m \u001b[0mdtype\u001b[0m\u001b[1;33m=\u001b[0m\u001b[1;34m'float32'\u001b[0m\u001b[1;33m)\u001b[0m\u001b[1;33m\u001b[0m\u001b[0m\n\u001b[0m",
        "\u001b[1;31mMemoryError\u001b[0m: "
       ]
      }
     ],
     "prompt_number": 13
    },
    {
     "cell_type": "markdown",
     "metadata": {},
     "source": [
      "Perfect! We raised a `MemoryError`. Normally we don't *want* errors, but if we're trying solve a problem ahead of time, simulating an error is super useful. Now we can't pretend that our method will work for a small testing data set, but then won't scale to a larger data set."
     ]
    },
    {
     "cell_type": "code",
     "collapsed": false,
     "input": [],
     "language": "python",
     "metadata": {},
     "outputs": []
    }
   ],
   "metadata": {}
  }
 ]
}