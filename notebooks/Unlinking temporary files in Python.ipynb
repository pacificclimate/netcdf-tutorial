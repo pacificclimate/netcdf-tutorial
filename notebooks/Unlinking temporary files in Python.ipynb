{
 "cells": [
  {
   "cell_type": "markdown",
   "metadata": {},
   "source": [
    "If we want to create temporary files for an experiment, we need to make sure that they get cleaned up and removed. The `tempfile.TemporaryFile` object, will do this mostly automatically, but much of the time (for our NetCDF experiments at least), we need more than just a file handle that gets returned by `TemporaryFile`. We need an actual named file, so we can give the filename to the NetCDF library. `tempfile.NamedTemporaryFile` gives us this, but then we're responsible for cleaning up the open file pointers and deleting the file ourselves. This *seems* easy to do, but in reality, it's easy to leak file pointers when mixing file open methods.\n",
    "\n",
    "Here's an example:"
   ]
  },
  {
   "cell_type": "code",
   "execution_count": 1,
   "metadata": {
    "collapsed": false
   },
   "outputs": [
    {
     "name": "stdout",
     "output_type": "stream",
     "text": [
      "Filesystem      Size  Used Avail Use% Mounted on\r\n",
      "/dev/sda1       110G   78G   28G  75% /\r\n"
     ]
    }
   ],
   "source": [
    "!df -h /dev/sda1"
   ]
  },
  {
   "cell_type": "markdown",
   "metadata": {},
   "source": [
    "We start out with 78GB used on the disk. Let's create a 1GB temporary file."
   ]
  },
  {
   "cell_type": "code",
   "execution_count": 2,
   "metadata": {
    "collapsed": false
   },
   "outputs": [
    {
     "name": "stdout",
     "output_type": "stream",
     "text": [
      "/home/james/code/git/netcdf-tutorial/notebooks/tmp2avl21.bin\n"
     ]
    }
   ],
   "source": [
    "import os\n",
    "import tempfile\n",
    "\n",
    "fd, filename = tempfile.mkstemp(suffix='.bin', dir=os.getcwd())\n",
    "print(filename)\n",
    "f = open(filename, 'wb')\n",
    "for i in range(1024 ** 2):\n",
    "    f.write(b'\\0' * 1024)\n"
   ]
  },
  {
   "cell_type": "code",
   "execution_count": 3,
   "metadata": {
    "collapsed": false
   },
   "outputs": [
    {
     "name": "stdout",
     "output_type": "stream",
     "text": [
      "Filesystem      Size  Used Avail Use% Mounted on\r\n",
      "/dev/sda1       110G   79G   27G  75% /\r\n"
     ]
    }
   ],
   "source": [
    "!df -h /dev/sda1"
   ]
  },
  {
   "cell_type": "markdown",
   "metadata": {},
   "source": [
    "We see that we've used up an extra 1GB of disk space, which is what we expect. OK, pretend we run some experiment, we're done with our file and we want to get rid of it. We'll close the file descriptor `fd` and remove the path."
   ]
  },
  {
   "cell_type": "code",
   "execution_count": 4,
   "metadata": {
    "collapsed": false
   },
   "outputs": [],
   "source": [
    "os.close(fd)\n",
    "os.remove(filename)"
   ]
  },
  {
   "cell_type": "code",
   "execution_count": 5,
   "metadata": {
    "collapsed": false
   },
   "outputs": [
    {
     "name": "stdout",
     "output_type": "stream",
     "text": [
      "Filesystem      Size  Used Avail Use% Mounted on\r\n",
      "/dev/sda1       110G   79G   27G  75% /\r\n"
     ]
    }
   ],
   "source": [
    "!df -h /dev/sda1"
   ]
  },
  {
   "cell_type": "markdown",
   "metadata": {},
   "source": [
    "What the?! We just removed the file, but we're still using the disk space. Did it not get removed?"
   ]
  },
  {
   "cell_type": "code",
   "execution_count": 6,
   "metadata": {
    "collapsed": false
   },
   "outputs": [
    {
     "name": "stdout",
     "output_type": "stream",
     "text": [
      "ls: cannot access /home/james/code/git/netcdf-tutorial/notebooks/tmp2avl21.bin: No such file or directory\r\n"
     ]
    }
   ],
   "source": [
    "!ls -lh $filename"
   ]
  },
  {
   "cell_type": "markdown",
   "metadata": {},
   "source": [
    "No, it's definitely gone. What's going on? It turns out that `mkstemp` returns an open file descriptor, but we *also* have an open file object from our call to `open()`. If *either* one of these hasn't been closed, then the disk space never gets freed up.\n",
    "\n",
    "Notice that `f` is still open."
   ]
  },
  {
   "cell_type": "code",
   "execution_count": 7,
   "metadata": {
    "collapsed": false
   },
   "outputs": [
    {
     "data": {
      "text/plain": [
       "<_io.BufferedWriter name='/home/james/code/git/netcdf-tutorial/notebooks/tmp2avl21.bin'>"
      ]
     },
     "execution_count": 7,
     "metadata": {},
     "output_type": "execute_result"
    }
   ],
   "source": [
    "f"
   ]
  },
  {
   "cell_type": "code",
   "execution_count": 8,
   "metadata": {
    "collapsed": true
   },
   "outputs": [],
   "source": [
    "f.close()"
   ]
  },
  {
   "cell_type": "code",
   "execution_count": 9,
   "metadata": {
    "collapsed": false
   },
   "outputs": [
    {
     "name": "stdout",
     "output_type": "stream",
     "text": [
      "Filesystem      Size  Used Avail Use% Mounted on\r\n",
      "/dev/sda1       110G   78G   28G  75% /\r\n"
     ]
    }
   ],
   "source": [
    "!df -h /dev/sda1"
   ]
  },
  {
   "cell_type": "markdown",
   "metadata": {},
   "source": [
    "So once we properly close the file object, the disk space gets reclaimed by the Operating System. The solution was pretty obvious the way that we did it this way, but in an earlier version of the code, I had ignored the file descriptor returned from `mkstemp` as so:\n",
    "\n",
    "```python\n",
    "_, filename = tempfile.mkstemp(suffix='.bin', dir=os.getcwd())\n",
    "```\n",
    "\n",
    "I was like, \"I don't need the file descriptor, because I'm just going to open it later on anyways with the NetCDF library\". So I threw away the fd. But it turns out that that object doesn't just disappear. It still gets created with a 0 refcount, so it lives on in the interpreter until it gets garbage collected. Which could be never. So, the disk space essentially never got released until I restarted the interpreter. Not OK.\n",
    "\n",
    "The correct way to handle this is with a `ContextManager` and a `with` statment. This ensures that everything gets cleaned up properly, and closed in the end."
   ]
  },
  {
   "cell_type": "code",
   "execution_count": 10,
   "metadata": {
    "collapsed": true
   },
   "outputs": [],
   "source": [
    "with tempfile.NamedTemporaryFile(suffix='.bin', dir=os.getcwd(), delete=False) as f:\n",
    "    some_fd = f.file\n",
    "    for i in range(1024 ** 2):\n",
    "        f.write(b'\\0' * 1024)"
   ]
  },
  {
   "cell_type": "code",
   "execution_count": 11,
   "metadata": {
    "collapsed": false
   },
   "outputs": [
    {
     "name": "stdout",
     "output_type": "stream",
     "text": [
      "Filesystem      Size  Used Avail Use% Mounted on\r\n",
      "/dev/sda1       110G   79G   27G  75% /\r\n"
     ]
    }
   ],
   "source": [
    "!df -h /dev/sda1"
   ]
  },
  {
   "cell_type": "code",
   "execution_count": 12,
   "metadata": {
    "collapsed": false
   },
   "outputs": [],
   "source": [
    "os.remove(f.name)"
   ]
  },
  {
   "cell_type": "code",
   "execution_count": 13,
   "metadata": {
    "collapsed": false
   },
   "outputs": [
    {
     "name": "stdout",
     "output_type": "stream",
     "text": [
      "Filesystem      Size  Used Avail Use% Mounted on\r\n",
      "/dev/sda1       110G   78G   28G  75% /\r\n"
     ]
    }
   ],
   "source": [
    "!df -h /dev/sda1"
   ]
  },
  {
   "cell_type": "code",
   "execution_count": null,
   "metadata": {
    "collapsed": true
   },
   "outputs": [],
   "source": []
  }
 ],
 "metadata": {
  "kernelspec": {
   "display_name": "Python 3",
   "language": "python",
   "name": "python3"
  },
  "language_info": {
   "codemirror_mode": {
    "name": "ipython",
    "version": 3
   },
   "file_extension": ".py",
   "mimetype": "text/x-python",
   "name": "python",
   "nbconvert_exporter": "python",
   "pygments_lexer": "ipython3",
   "version": "3.3.5"
  }
 },
 "nbformat": 4,
 "nbformat_minor": 0
}
