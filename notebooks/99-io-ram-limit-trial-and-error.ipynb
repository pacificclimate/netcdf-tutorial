{
 "cells": [
  {
   "cell_type": "code",
   "execution_count": 10,
   "metadata": {
    "collapsed": false
   },
   "outputs": [
    {
     "ename": "NameError",
     "evalue": "name 'resource' is not defined",
     "output_type": "error",
     "traceback": [
      "\u001b[1;31m---------------------------------------------------------------------------\u001b[0m",
      "\u001b[1;31mNameError\u001b[0m                                 Traceback (most recent call last)",
      "\u001b[1;32m<ipython-input-10-359987a7bfc6>\u001b[0m in \u001b[0;36m<module>\u001b[1;34m()\u001b[0m\n\u001b[0;32m      1\u001b[0m \u001b[0mpid\u001b[0m \u001b[1;33m=\u001b[0m \u001b[0mos\u001b[0m\u001b[1;33m.\u001b[0m\u001b[0mgetpid\u001b[0m\u001b[1;33m(\u001b[0m\u001b[1;33m)\u001b[0m\u001b[1;33m\u001b[0m\u001b[0m\n\u001b[1;32m----> 2\u001b[1;33m \u001b[0mpage_size\u001b[0m \u001b[1;33m=\u001b[0m \u001b[0mresource\u001b[0m\u001b[1;33m.\u001b[0m\u001b[0mgetpagesize\u001b[0m\u001b[1;33m(\u001b[0m\u001b[1;33m)\u001b[0m\u001b[1;33m\u001b[0m\u001b[0m\n\u001b[0m\u001b[0;32m      3\u001b[0m \u001b[0mpid\u001b[0m\u001b[1;33m,\u001b[0m \u001b[0mpage_size\u001b[0m\u001b[1;33m\u001b[0m\u001b[0m\n",
      "\u001b[1;31mNameError\u001b[0m: name 'resource' is not defined"
     ]
    }
   ],
   "source": [
    "pid = os.getpid()\n",
    "page_size = resource.getpagesize()\n",
    "pid, page_size"
   ]
  },
  {
   "cell_type": "markdown",
   "metadata": {},
   "source": [
    "Here, we're going to set ourselves a \"soft\" and \"hard\" limit on the \"addressable space\" (AS). Addressable space consists of all of the data in RAM *and* the virtual memory on disk. But for this experiment, we don't want to use virtual memory at all. That's OK, we'll set AS to 10MB, so we have to be *really* disciplined with our memory usage. We'll leave the hard limit unset. Users aren't permitted to ever *raise* their hard limit, so we'd have to restart the process to get our hard limit back up."
   ]
  },
  {
   "cell_type": "code",
   "execution_count": 3,
   "metadata": {
    "collapsed": false
   },
   "outputs": [],
   "source": [
    "#resource.setrlimit(resource.RLIMIT_AS, (500 * 1024 * 1024, resource.RLIM_INFINITY))"
   ]
  },
  {
   "cell_type": "code",
   "execution_count": 4,
   "metadata": {
    "collapsed": false
   },
   "outputs": [
    {
     "data": {
      "text/plain": [
       "resource.struct_rusage(ru_utime=0.00244, ru_stime=0.002669, ru_maxrss=20456, ru_ixrss=0, ru_idrss=0, ru_isrss=0, ru_minflt=874, ru_majflt=2, ru_nswap=0, ru_inblock=184, ru_oublock=0, ru_msgsnd=0, ru_msgrcv=0, ru_nsignals=0, ru_nvcsw=6, ru_nivcsw=4)"
      ]
     },
     "execution_count": 4,
     "metadata": {},
     "output_type": "execute_result"
    }
   ],
   "source": [
    "resource.getrusage(resource.RUSAGE_CHILDREN)"
   ]
  },
  {
   "cell_type": "code",
   "execution_count": 5,
   "metadata": {
    "collapsed": false
   },
   "outputs": [
    {
     "data": {
      "text/plain": [
       "0"
      ]
     },
     "execution_count": 5,
     "metadata": {},
     "output_type": "execute_result"
    }
   ],
   "source": [
    "resource.getrusage(resource.RUSAGE_CHILDREN)[4]"
   ]
  },
  {
   "cell_type": "code",
   "execution_count": 5,
   "metadata": {
    "collapsed": false
   },
   "outputs": [
    {
     "name": "stdout",
     "output_type": "stream",
     "text": [
      "  PID USER     COMMAND                       RSS   RES -  SIZE    VSZ\r\n",
      " 7115 hiebert  /home/hiebert/code/netcdf-t 36264     - - 412168 573160\r\n"
     ]
    }
   ],
   "source": [
    "pid = os.getpid()\n",
    "!ps -p $pid -o pid,user,args,rss,resident,share,size,vsize"
   ]
  },
  {
   "cell_type": "code",
   "execution_count": 7,
   "metadata": {
    "collapsed": false
   },
   "outputs": [
    {
     "data": {
      "text/plain": [
       "7267"
      ]
     },
     "execution_count": 7,
     "metadata": {},
     "output_type": "execute_result"
    }
   ],
   "source": [
    "pid"
   ]
  },
  {
   "cell_type": "code",
   "execution_count": 13,
   "metadata": {
    "collapsed": true
   },
   "outputs": [],
   "source": [
    "resource.setrlimit(resource.RLIMIT_STACK, (50 * 1024 * 1024, resource.RLIM_INFINITY))"
   ]
  },
  {
   "cell_type": "code",
   "execution_count": 14,
   "metadata": {
    "collapsed": false
   },
   "outputs": [
    {
     "data": {
      "text/plain": [
       "(52428800, -1)"
      ]
     },
     "execution_count": 14,
     "metadata": {},
     "output_type": "execute_result"
    }
   ],
   "source": [
    "resource.getrlimit(resource.RLIMIT_STACK)"
   ]
  },
  {
   "cell_type": "code",
   "execution_count": 15,
   "metadata": {
    "collapsed": false,
    "scrolled": true
   },
   "outputs": [],
   "source": [
    "shape = (256, 1024, 1024)\n",
    "x = np.empty(shape, dtype='float32')"
   ]
  },
  {
   "cell_type": "markdown",
   "metadata": {},
   "source": [
    "Perfect! We raised a `MemoryError`. Normally we don't *want* errors, but if we're trying solve a problem ahead of time, simulating an error is super useful. Now we can't pretend that our method will work for a small testing data set, but then won't scale to a larger data set.\n",
    "\n",
    "Let's start by creating another big NetCDF file and then discuss ways to process it. We'll need to turn off our memory limit temporarily to create it."
   ]
  },
  {
   "cell_type": "code",
   "execution_count": 9,
   "metadata": {
    "collapsed": false
   },
   "outputs": [],
   "source": [
    "resource.setrlimit(resource.RLIMIT_AS, (resource.RLIM_INFINITY, resource.RLIM_INFINITY))"
   ]
  },
  {
   "cell_type": "code",
   "execution_count": 10,
   "metadata": {
    "collapsed": false
   },
   "outputs": [
    {
     "data": {
      "text/plain": [
       "(-1, -1)"
      ]
     },
     "execution_count": 10,
     "metadata": {},
     "output_type": "execute_result"
    }
   ],
   "source": [
    "resource.getrlimit(resource.RLIMIT_AS)"
   ]
  },
  {
   "cell_type": "code",
   "execution_count": 11,
   "metadata": {
    "collapsed": false
   },
   "outputs": [],
   "source": [
    "# %load ../src/utils.py\n",
    "import os\n",
    "import math\n",
    "from tempfile import NamedTemporaryFile\n",
    "\n",
    "import netCDF4\n",
    "import numpy as np\n",
    "\n",
    "def make_netcdf3_file(shape, variable_name='some_variable', dir_=os.getcwd()):\n",
    "\n",
    "    with NamedTemporaryFile(suffix='.nc', dir=dir_, delete=False) as f:\n",
    "\n",
    "        nc = netCDF4.Dataset(f.name, 'w', format='NETCDF3_CLASSIC')\n",
    "        nc.createDimension('x', shape[2])\n",
    "        nc.createDimension('y', shape[1])\n",
    "        nc.createDimension('z', shape[0])\n",
    "        some_var = nc.createVariable('some_variable','f4',('z', 'y', 'x'))\n",
    "\n",
    "    def trip(x, y, z):\n",
    "        d = math.sqrt((x - 256) ** 2 + (y - 256) ** 2)\n",
    "        return math.sin(d / 64) + math.sin(z)\n",
    "    trip_v = np.vectorize(trip)\n",
    "\n",
    "    x, y = np.meshgrid(range(shape[2]), range(shape[1]))\n",
    "    basegrid = trip_v(x, y, 0).astype('float32')\n",
    "\n",
    "    for z in range(shape[0]):\n",
    "        a = basegrid + math.sin(z / 32)\n",
    "        some_var[z,:,:] = a\n",
    "\n",
    "    nc.close()\n",
    "\n",
    "    return f.name\n"
   ]
  },
  {
   "cell_type": "code",
   "execution_count": 12,
   "metadata": {
    "collapsed": false
   },
   "outputs": [],
   "source": [
    "nc = make_netcdf3_file((256, 1024, 1024))"
   ]
  },
  {
   "cell_type": "code",
   "execution_count": 13,
   "metadata": {
    "collapsed": false
   },
   "outputs": [
    {
     "data": {
      "text/plain": [
       "'/home/hiebert/code/netcdf-tutorial/notebooks/tmpgmimbaxq.nc'"
      ]
     },
     "execution_count": 13,
     "metadata": {},
     "output_type": "execute_result"
    }
   ],
   "source": [
    "nc"
   ]
  },
  {
   "cell_type": "code",
   "execution_count": 14,
   "metadata": {
    "collapsed": false
   },
   "outputs": [
    {
     "name": "stdout",
     "output_type": "stream",
     "text": [
      "  PID USER     COMMAND                       RSS   RES -  SIZE    VSZ\r\n",
      " 5590 hiebert  /home/hiebert/code/netcdf-t 74224     - - 1494356 1734584\r\n"
     ]
    }
   ],
   "source": [
    "!ps -p $pid -o pid,user,args,rss,resident,share,size,vsize"
   ]
  },
  {
   "cell_type": "code",
   "execution_count": 17,
   "metadata": {
    "collapsed": false
   },
   "outputs": [
    {
     "name": "stdout",
     "output_type": "stream",
     "text": [
      "171501 18555 2575 852 0 111444 0\r\n"
     ]
    }
   ],
   "source": [
    "!cat /proc/$pid/statm"
   ]
  },
  {
   "cell_type": "code",
   "execution_count": 18,
   "metadata": {
    "collapsed": true
   },
   "outputs": [],
   "source": [
    "x = \"foo\""
   ]
  },
  {
   "cell_type": "code",
   "execution_count": 19,
   "metadata": {
    "collapsed": true
   },
   "outputs": [],
   "source": [
    "y = \"bar\""
   ]
  },
  {
   "cell_type": "code",
   "execution_count": 20,
   "metadata": {
    "collapsed": false
   },
   "outputs": [
    {
     "name": "stdout",
     "output_type": "stream",
     "text": [
      "171501 18555 2575 852 0 111444 0\r\n"
     ]
    }
   ],
   "source": [
    "!cat /proc/$pid/statm"
   ]
  },
  {
   "cell_type": "code",
   "execution_count": 3,
   "metadata": {
    "collapsed": false
   },
   "outputs": [],
   "source": [
    "from collections import namedtuple\n",
    "MemUsage = namedtuple('MemUsage', 'size resident share text lib data dt')\n",
    "class HumanMemUsage(MemUsage):\n",
    "    __slots__ = ()\n",
    "    page_size = resource.getpagesize()\n",
    "    @property\n",
    "    def data_bytes(self):\n",
    "        return (self.resident - self.text) * self.page_size"
   ]
  },
  {
   "cell_type": "code",
   "execution_count": 6,
   "metadata": {
    "collapsed": false
   },
   "outputs": [
    {
     "data": {
      "text/plain": [
       "MemUsage(size=143290, resident=9067, share=2012, text=852, lib=0, data=103042, dt=0)"
      ]
     },
     "execution_count": 6,
     "metadata": {},
     "output_type": "execute_result"
    }
   ],
   "source": [
    "with open('/proc/{}/statm'.format(pid)) as f:\n",
    "    string = f.read()\n",
    "MemUsage._make([int(x) for x in string.split()])"
   ]
  },
  {
   "cell_type": "code",
   "execution_count": 53,
   "metadata": {
    "collapsed": false
   },
   "outputs": [
    {
     "data": {
      "text/plain": [
       "(111636, 17975)"
      ]
     },
     "execution_count": 53,
     "metadata": {},
     "output_type": "execute_result"
    }
   ],
   "source": [
    "with open('/proc/{}/statm'.format(pid)) as f:\n",
    "    string = f.read()\n",
    "m = HumanMemUsage(*[int(x) for x in string.split()])\n",
    "m.data, m.resident - m.text"
   ]
  },
  {
   "cell_type": "code",
   "execution_count": 54,
   "metadata": {
    "collapsed": false
   },
   "outputs": [
    {
     "data": {
      "text/plain": [
       "5590"
      ]
     },
     "execution_count": 54,
     "metadata": {},
     "output_type": "execute_result"
    }
   ],
   "source": [
    "pid"
   ]
  },
  {
   "cell_type": "code",
   "execution_count": 55,
   "metadata": {
    "collapsed": false
   },
   "outputs": [
    {
     "data": {
      "text/plain": [
       "(8388608, -1)"
      ]
     },
     "execution_count": 55,
     "metadata": {},
     "output_type": "execute_result"
    }
   ],
   "source": [
    "resource.getrlimit(resource.RLIMIT_STACK)"
   ]
  },
  {
   "cell_type": "code",
   "execution_count": 12,
   "metadata": {
    "collapsed": false
   },
   "outputs": [],
   "source": [
    "import numpy as np\n",
    "\n",
    "a = np.empty((1024, 1024, 512))"
   ]
  },
  {
   "cell_type": "code",
   "execution_count": 13,
   "metadata": {
    "collapsed": false
   },
   "outputs": [
    {
     "data": {
      "text/plain": [
       "MemUsage(size=1208251, resident=9098, share=2013, text=852, lib=0, data=1168003, dt=0)"
      ]
     },
     "execution_count": 13,
     "metadata": {},
     "output_type": "execute_result"
    }
   ],
   "source": [
    "with open('/proc/{}/statm'.format(pid)) as f:\n",
    "    string = f.read()\n",
    "MemUsage._make([int(x) for x in string.split()])"
   ]
  },
  {
   "cell_type": "code",
   "execution_count": 14,
   "metadata": {
    "collapsed": false
   },
   "outputs": [
    {
     "data": {
      "text/plain": [
       "1064921"
      ]
     },
     "execution_count": 14,
     "metadata": {},
     "output_type": "execute_result"
    }
   ],
   "source": [
    "1168003 - 103082 # in pages"
   ]
  },
  {
   "cell_type": "code",
   "execution_count": 17,
   "metadata": {
    "collapsed": false
   },
   "outputs": [
    {
     "data": {
      "text/plain": [
       "4361916416"
      ]
     },
     "execution_count": 17,
     "metadata": {},
     "output_type": "execute_result"
    }
   ],
   "source": [
    "(1168003 - 103082) * 4096 # bytes"
   ]
  },
  {
   "cell_type": "code",
   "execution_count": 18,
   "metadata": {
    "collapsed": false
   },
   "outputs": [
    {
     "data": {
      "text/plain": [
       "4159.84765625"
      ]
     },
     "execution_count": 18,
     "metadata": {},
     "output_type": "execute_result"
    }
   ],
   "source": [
    "((1168003 - 103082) * 4096) / 1024 ** 2 # Mb"
   ]
  },
  {
   "cell_type": "raw",
   "metadata": {},
   "source": [
    "Great. So we can see that after creating an array of  1/2 billion, 8 byte floats (i.e. 4 GB), our data memory usage has increased by 4 GB. Nothing else increased appreciably, so we're measuring the right thing."
   ]
  },
  {
   "cell_type": "code",
   "execution_count": 27,
   "metadata": {
    "collapsed": false
   },
   "outputs": [
    {
     "data": {
      "text/plain": [
       "(52428800, -1)"
      ]
     },
     "execution_count": 27,
     "metadata": {},
     "output_type": "execute_result"
    }
   ],
   "source": [
    "resource.getrlimit(resource.RLIMIT_DATA)"
   ]
  },
  {
   "cell_type": "code",
   "execution_count": 28,
   "metadata": {
    "collapsed": true
   },
   "outputs": [],
   "source": [
    "resource.setrlimit(resource.RLIMIT_DATA, (50 * 1024 * 1024, 50 * 1024 * 1024))"
   ]
  },
  {
   "cell_type": "code",
   "execution_count": 29,
   "metadata": {
    "collapsed": false
   },
   "outputs": [
    {
     "data": {
      "text/plain": [
       "MemUsage(size=2256892, resident=9127, share=2013, text=852, lib=0, data=2216644, dt=0)"
      ]
     },
     "execution_count": 29,
     "metadata": {},
     "output_type": "execute_result"
    }
   ],
   "source": [
    "with open('/proc/{}/statm'.format(pid)) as f:\n",
    "    string = f.read()\n",
    "MemUsage._make([int(x) for x in string.split()])"
   ]
  },
  {
   "cell_type": "code",
   "execution_count": 33,
   "metadata": {
    "collapsed": true
   },
   "outputs": [],
   "source": [
    "c = np.empty((1024, 1024, 512))"
   ]
  },
  {
   "cell_type": "code",
   "execution_count": 34,
   "metadata": {
    "collapsed": false
   },
   "outputs": [
    {
     "data": {
      "text/plain": [
       "MemUsage(size=3305469, resident=9133, share=2013, text=852, lib=0, data=3265221, dt=0)"
      ]
     },
     "execution_count": 34,
     "metadata": {},
     "output_type": "execute_result"
    }
   ],
   "source": [
    "with open('/proc/{}/statm'.format(pid)) as f:\n",
    "    string = f.read()\n",
    "MemUsage._make([int(x) for x in string.split()])"
   ]
  },
  {
   "cell_type": "code",
   "execution_count": 32,
   "metadata": {
    "collapsed": false
   },
   "outputs": [
    {
     "data": {
      "text/plain": [
       "12800.0"
      ]
     },
     "execution_count": 32,
     "metadata": {},
     "output_type": "execute_result"
    }
   ],
   "source": [
    "50 * 1024 * 1024 / 4096"
   ]
  },
  {
   "cell_type": "code",
   "execution_count": null,
   "metadata": {
    "collapsed": true
   },
   "outputs": [],
   "source": []
  }
 ],
 "metadata": {
  "kernelspec": {
   "display_name": "Python 3",
   "language": "python",
   "name": "python3"
  },
  "language_info": {
   "codemirror_mode": {
    "name": "ipython",
    "version": 3
   },
   "file_extension": ".py",
   "mimetype": "text/x-python",
   "name": "python",
   "nbconvert_exporter": "python",
   "pygments_lexer": "ipython3",
   "version": "3.4.0"
  }
 },
 "nbformat": 4,
 "nbformat_minor": 0
}
