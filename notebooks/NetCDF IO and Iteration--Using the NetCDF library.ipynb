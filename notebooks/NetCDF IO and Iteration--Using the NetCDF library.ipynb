{
 "metadata": {
  "name": "",
  "signature": "sha256:1a6c02c98eeef8879c62065980dfd21fa8d40f83933ec91b7f5d46faf78f9644"
 },
 "nbformat": 3,
 "nbformat_minor": 0,
 "worksheets": [
  {
   "cells": [
    {
     "cell_type": "markdown",
     "metadata": {},
     "source": [
      "## Review\n",
      "\n",
      "OK, let's review what we've learned so far with our experiments\n",
      "\n",
      "* Read rate is inversely proportional to slice fragmentation\n",
      "* Reading from RAM is really, really fast\n",
      "* RAM is limited, so some comprimise is necessary\n",
      "\n",
      "So far we have only been praciticing I/O with a simple multidimensional array. Let's explore the usage of the NetCDF library and investigate what it provides for us."
     ]
    },
    {
     "cell_type": "code",
     "collapsed": false,
     "input": [
      "import netCDF4"
     ],
     "language": "python",
     "metadata": {},
     "outputs": [
      {
       "ename": "ImportError",
       "evalue": "No module named 'netCDF4'",
       "output_type": "pyerr",
       "traceback": [
        "\u001b[1;31m---------------------------------------------------------------------------\u001b[0m\n\u001b[1;31mImportError\u001b[0m                               Traceback (most recent call last)",
        "\u001b[1;32m<ipython-input-1-f731da2de255>\u001b[0m in \u001b[0;36m<module>\u001b[1;34m()\u001b[0m\n\u001b[1;32m----> 1\u001b[1;33m \u001b[1;32mimport\u001b[0m \u001b[0mnetCDF4\u001b[0m\u001b[1;33m\u001b[0m\u001b[0m\n\u001b[0m",
        "\u001b[1;31mImportError\u001b[0m: No module named 'netCDF4'"
       ]
      }
     ],
     "prompt_number": 1
    },
    {
     "cell_type": "code",
     "collapsed": false,
     "input": [],
     "language": "python",
     "metadata": {},
     "outputs": []
    }
   ],
   "metadata": {}
  }
 ]
}