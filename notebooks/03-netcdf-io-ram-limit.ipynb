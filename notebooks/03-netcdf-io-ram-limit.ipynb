{
 "cells": [
  {
   "cell_type": "markdown",
   "metadata": {},
   "source": [
    "# Processing NetCDFs in a RAM limted environment\n",
    "\n",
    "## Review\n",
    "\n",
    "What did we learn in the first two sections?\n",
    "\n",
    "* Read rate is inversely proportional to slice fragmentation\n",
    "* Reading from RAM is really, really fast (after paying the initial cost)\n",
    "* The NetCDF library simplifies our code by a factor of 20\n",
    "* The NetCDF library is reasonably fast\n",
    "\n",
    "For this part of the tutorial, we want to find out what happens when we run out of memory and how to work around it. Normally you find this out by accident at the end of a long processing chain that takes minutes or hours to run. We really don't want to wait that long so let's boil this down. How can we run out of memory with our small-ish 1GB array?\n",
    "\n",
    "## Constraining Memory\n",
    "\n",
    "It turns out that Linux has a number of system calls that allow anyone, root or otherwise, to set resource limits on processes. As a regular user, we are allowed to limit the resources of our own processes at will. And Python gives us bindings to those system calls through the `resource` module.\n",
    "\n",
    "Without getting too deep into operating system internals, it's challenging to understand all of the various ways to measure RAM usage. OSes use a hiearchichal address space that gets consumed by and shared between many different processes and many different pieces of a program. You can read a bit more about some options in [the exteded version of the RAM limiting tutorial](), but for now just trust me that this:\n",
    "\n",
    "    with mem_limiter(50 * 1024 ** 2):\n",
    "        print(\"Running some code\")\n",
    "\n",
    "will raise a MemoryError if we exceed 50MB of data before or after the block."
   ]
  },
  {
   "cell_type": "code",
   "execution_count": 1,
   "metadata": {
    "collapsed": false
   },
   "outputs": [],
   "source": [
    "# Start with a few standard imports\n",
    "import numpy as np\n",
    "import os"
   ]
  },
  {
   "cell_type": "code",
   "execution_count": 2,
   "metadata": {
    "collapsed": false
   },
   "outputs": [],
   "source": [
    "# %load ../src/utils.py\n",
    "import os\n",
    "import math\n",
    "from time import time\n",
    "import resource\n",
    "from collections import namedtuple\n",
    "from contextlib import contextmanager, ContextDecorator\n",
    "from tempfile import NamedTemporaryFile\n",
    "\n",
    "import netCDF4\n",
    "import numpy as np\n",
    "\n",
    "def make_netcdf3_file(shape, variable_name='some_variable', dir_=os.getcwd()):\n",
    "\n",
    "    with NamedTemporaryFile(suffix='.nc', dir=dir_, delete=False) as f:\n",
    "\n",
    "        nc = netCDF4.Dataset(f.name, 'w', format='NETCDF3_CLASSIC')\n",
    "        nc.createDimension('x', shape[2])\n",
    "        nc.createDimension('y', shape[1])\n",
    "        nc.createDimension('z', shape[0])\n",
    "        some_var = nc.createVariable('some_variable','f4',('z', 'y', 'x'))\n",
    "\n",
    "    def trip(x, y, z):\n",
    "        d = math.sqrt((x - 256) ** 2 + (y - 256) ** 2)\n",
    "        return math.sin(d / 64) + math.sin(z)\n",
    "    trip_v = np.vectorize(trip)\n",
    "\n",
    "    x, y = np.meshgrid(range(shape[2]), range(shape[1]))\n",
    "    basegrid = trip_v(x, y, 0).astype('float32')\n",
    "\n",
    "    for z in range(shape[0]):\n",
    "        a = basegrid + math.sin(z / 32)\n",
    "        some_var[z,:,:] = a\n",
    "\n",
    "    nc.close()\n",
    "\n",
    "    return f.name\n",
    "\n",
    "MemUsage = namedtuple('MemUsage', 'size resident share text lib data dt')\n",
    "\n",
    "def get_mem_usage():\n",
    "    pid = os.getpid()\n",
    "    with open('/proc/{}/statm'.format(pid)) as f:\n",
    "        string = f.read()\n",
    "    return MemUsage._make([int(x) for x in string.split()])    \n",
    "    \n",
    "@contextmanager\n",
    "def mem_limiter(bytes_):\n",
    "    if get_mem_usage().data > bytes_:\n",
    "        raise MemoryError(\"You're already using {} bytes which is over the limit of {} bytes\".format(get_mem_usage().data, bytes_))\n",
    "    yield\n",
    "    if get_mem_usage().data > bytes_:\n",
    "        raise MemoryError(\"FAIL! You're using {} bytes which is over the limit of {} bytes\".format(get_mem_usage().data, bytes_))\n",
    "\n",
    "class ThroughputMeter(ContextDecorator):\n",
    "    def __enter__(self):\n",
    "        self.t0 = time()\n",
    "        return self\n",
    "    def __exit__(self, *exc):\n",
    "        self.tn = time()\n",
    "\n",
    "    def megabytes_per_second(self, array):\n",
    "        seconds = self.tn - self.t0\n",
    "        MB = np.prod(array.shape) / 1024 ** 2 * array.dtype.itemsize\n",
    "        MBps = MB / seconds\n",
    "        print(\"{:03.3f} MB in {:03.3} seconds at {:03.3f} MB / sec\".format(MB, seconds, MBps))\n",
    "        return MBps\n"
   ]
  },
  {
   "cell_type": "markdown",
   "metadata": {},
   "source": [
    "We'll start by creating a half GB NetCDF file, and then assume that we need to compute some statistics on it with limited memory."
   ]
  },
  {
   "cell_type": "code",
   "execution_count": 3,
   "metadata": {
    "collapsed": false
   },
   "outputs": [],
   "source": [
    "filename = make_netcdf3_file((256, 1024, 1024))"
   ]
  },
  {
   "cell_type": "code",
   "execution_count": 4,
   "metadata": {
    "collapsed": false
   },
   "outputs": [
    {
     "data": {
      "text/plain": [
       "'/home/james/code/git/netcdf-tutorial/notebooks/tmpzmn2i3.nc'"
      ]
     },
     "execution_count": 4,
     "metadata": {},
     "output_type": "execute_result"
    }
   ],
   "source": [
    "filename"
   ]
  },
  {
   "cell_type": "code",
   "execution_count": 5,
   "metadata": {
    "collapsed": false
   },
   "outputs": [
    {
     "data": {
      "text/plain": [
       "111816"
      ]
     },
     "execution_count": 5,
     "metadata": {},
     "output_type": "execute_result"
    }
   ],
   "source": [
    "get_mem_usage().data"
   ]
  },
  {
   "cell_type": "markdown",
   "metadata": {},
   "source": [
    "## Iteration\n",
    "\n",
    "Let's pretend that we need to compute the mean value across space at each time step. Since we don't have enough RAM for the full timeseries, we need to *iterate* over it, only loading one timestep at a time."
   ]
  },
  {
   "cell_type": "code",
   "execution_count": 6,
   "metadata": {
    "collapsed": true
   },
   "outputs": [],
   "source": [
    "def simple_iteration():\n",
    "    nc = netCDF4.Dataset(filename)\n",
    "    some_var = nc.variables['some_variable']\n",
    "    tn, yn, xn = some_var.shape\n",
    "    the_means = np.empty((tn,))\n",
    "    for t in range(tn):\n",
    "        with mem_limiter(50 * 1024 ** 2):\n",
    "            the_means[t] = np.mean(some_var[t,:,:])\n",
    "    nc.close()\n",
    "    return the_means"
   ]
  },
  {
   "cell_type": "code",
   "execution_count": 7,
   "metadata": {
    "collapsed": false
   },
   "outputs": [
    {
     "name": "stdout",
     "output_type": "stream",
     "text": [
      "1 loops, best of 3: 962 ms per loop\n"
     ]
    }
   ],
   "source": [
    "%%timeit\n",
    "simple_iteration()"
   ]
  },
  {
   "cell_type": "code",
   "execution_count": 8,
   "metadata": {
    "collapsed": false
   },
   "outputs": [
    {
     "data": {
      "text/plain": [
       "[<matplotlib.lines.Line2D at 0x7f55484075d0>]"
      ]
     },
     "execution_count": 8,
     "metadata": {},
     "output_type": "execute_result"
    },
    {
     "data": {
      "image/png": "[encoded data removed]",
      "text/plain": [
       "<matplotlib.figure.Figure at 0x7f557236acd0>"
      ]
     },
     "metadata": {},
     "output_type": "display_data"
    }
   ],
   "source": [
    "from matplotlib import pyplot\n",
    "%matplotlib inline\n",
    "\n",
    "pyplot.plot(simple_iteration())"
   ]
  },
  {
   "cell_type": "code",
   "execution_count": 9,
   "metadata": {
    "collapsed": false
   },
   "outputs": [
    {
     "data": {
      "text/plain": [
       "113546"
      ]
     },
     "execution_count": 9,
     "metadata": {},
     "output_type": "execute_result"
    }
   ],
   "source": [
    "get_mem_usage().data"
   ]
  },
  {
   "cell_type": "markdown",
   "metadata": {},
   "source": [
    "The code and the looping for this was extremely straightforward and intuitive. One loop, with one operation per loop. If you can get your work done in this manner, please go for it!\n",
    "\n",
    "## Utilization\n",
    "\n",
    "One property that it *doesn't* exhibit, howerver, is high utilization of the memory that we *do* have available."
   ]
  },
  {
   "cell_type": "code",
   "execution_count": 10,
   "metadata": {
    "collapsed": false
   },
   "outputs": [
    {
     "data": {
      "text/plain": [
       "8388608"
      ]
     },
     "execution_count": 10,
     "metadata": {},
     "output_type": "execute_result"
    }
   ],
   "source": [
    "nc = netCDF4.Dataset(filename)\n",
    "len(nc.dimensions['x']) * len(nc.dimensions['y']) * np.dtype('float64').itemsize"
   ]
  },
  {
   "cell_type": "markdown",
   "metadata": {},
   "source": [
    "We have about 50 MB available, but we're only utilizing a little more than 8 MB per loop. Recall that we get better performance, with the fewer reads that we do. So it's to our advantage to fill up as much RAM as we can and work from there. This is usually described as *chunking*. *Not* to be confused with NetCDF4 chunking, which is similar, but different. We'll get to that.\n",
    "\n",
    "What would our loop look like with a high utilization chunking strategy? We have to do a few extra things:\n",
    "\n",
    "* Compute an optimal chunk size, one that fills available memory\n",
    "* Read in some number of time steps\n",
    "* Peform our computation *on* the space axes (along the time axis)\n",
    "\n",
    "The code to do so looks like this:"
   ]
  },
  {
   "cell_type": "code",
   "execution_count": 11,
   "metadata": {
    "collapsed": false
   },
   "outputs": [],
   "source": [
    "def chunked_iteration():\n",
    "    \n",
    "    my_limit = 50 * 1024 ** 2\n",
    "\n",
    "    def compute_chunk_size(limit, slice_size):\n",
    "        return int(limit // slice_size)\n",
    "\n",
    "    nc = netCDF4.Dataset(filename)\n",
    "    some_var = nc.variables['some_variable']\n",
    "    tn, yn, xn = some_var.shape\n",
    "    the_means = np.empty((tn,))\n",
    "    \n",
    "    chunk_size = compute_chunk_size(my_limit, yn * xn * np.dtype('float64').itemsize)\n",
    "    for t in range(0, tn, chunk_size):\n",
    "        with mem_limiter(my_limit):\n",
    "            a = some_var[t:t+chunk_size,:,:]\n",
    "            the_means[t:t+chunk_size] = np.mean(a, axis=(1, 2))\n",
    "    nc.close()\n",
    "    return the_means\n"
   ]
  },
  {
   "cell_type": "code",
   "execution_count": 12,
   "metadata": {
    "collapsed": false
   },
   "outputs": [
    {
     "name": "stdout",
     "output_type": "stream",
     "text": [
      "1 loops, best of 3: 882 ms per loop\n"
     ]
    }
   ],
   "source": [
    "%%timeit\n",
    "the_means = chunked_iteration()"
   ]
  },
  {
   "cell_type": "code",
   "execution_count": 13,
   "metadata": {
    "collapsed": false
   },
   "outputs": [
    {
     "data": {
      "text/plain": [
       "[<matplotlib.lines.Line2D at 0x7f55483ad590>]"
      ]
     },
     "execution_count": 13,
     "metadata": {},
     "output_type": "execute_result"
    },
    {
     "data": {
      "image/png": "[encoded data removed]",
      "text/plain": [
       "<matplotlib.figure.Figure at 0x7f554842ff90>"
      ]
     },
     "metadata": {},
     "output_type": "display_data"
    }
   ],
   "source": [
    "pyplot.plot(chunked_iteration())"
   ]
  },
  {
   "cell_type": "code",
   "execution_count": 15,
   "metadata": {
    "collapsed": false
   },
   "outputs": [
    {
     "data": {
      "text/plain": [
       "1.090702947845805"
      ]
     },
     "execution_count": 15,
     "metadata": {},
     "output_type": "execute_result"
    }
   ],
   "source": [
    ".962 / .882"
   ]
  },
  {
   "cell_type": "markdown",
   "metadata": {},
   "source": [
    "So you can see that the code runs a *little* bit faster, at the expense of having some slightly more complex code. It took us 16 lines to write what we previously wrote in 8. 8 lines of code may not seem like a lot, but put another way: we had to write twice as much code. It's harder to read and understand, harder to maintain, and easier to make mistakes.\n",
    "\n",
    "But... it *is* a little faster, and this may make a difference if you're running hundreds of simulations, or processing terabytes of data. It's up to you to decide whether the trade off is worth it."
   ]
  },
  {
   "cell_type": "code",
   "execution_count": null,
   "metadata": {
    "collapsed": true
   },
   "outputs": [],
   "source": []
  }
 ],
 "metadata": {
  "kernelspec": {
   "display_name": "Python 3",
   "language": "python",
   "name": "python3"
  },
  "language_info": {
   "codemirror_mode": {
    "name": "ipython",
    "version": 3
   },
   "file_extension": ".py",
   "mimetype": "text/x-python",
   "name": "python",
   "nbconvert_exporter": "python",
   "pygments_lexer": "ipython3",
   "version": "3.3.5"
  }
 },
 "nbformat": 4,
 "nbformat_minor": 0
}
